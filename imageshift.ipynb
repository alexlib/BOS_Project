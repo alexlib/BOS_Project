{
 "cells": [
  {
   "cell_type": "code",
   "execution_count": null,
   "metadata": {},
   "outputs": [],
   "source": [
    "#load library\n",
    "from scipy.ndimage import shift\n",
    "import matplotlib.pyplot as plt\n",
    "from scipy import datasets\n",
    "from openpiv.tools import imread\n",
    "from pylab import *\n",
    "import cv2"
   ]
  },
  {
   "cell_type": "code",
   "execution_count": null,
   "metadata": {},
   "outputs": [],
   "source": [
    "# Read the image\n",
    "impo_a = cv2.imread('try3-exp000001.T000.D000.P000.H000.LA.TIF', cv2.IMREAD_UNCHANGED)\n",
    "\n",
    "#shift image vertically\n",
    "#image_shifted_vertically = shift(image,shift= (0, 1),mode='reflect')\n",
    "impo_b= cv2.imread('try3-exp000299.T000.D000.P000.H000.LA.TIF', cv2.IMREAD_UNCHANGED)\n"
   ]
  },
  {
   "cell_type": "code",
   "execution_count": null,
   "metadata": {},
   "outputs": [],
   "source": [
    "\n",
    "# Get image properties\n",
    "height, width = impo_a.shape[:2]\n",
    "channels = impo_a.shape[2] if len(impo_a.shape) > 2 else 1\n",
    "bit_depth = impo_a.dtype\n",
    "\n",
    "print(\"Image Properties:\")\n",
    "print(\"Dimensions: {} x {}\".format(width, height))\n",
    "print(\"Channels:\", channels)\n",
    "print(\"Bit Depth:\", bit_depth)\n",
    "#the image has a bit depth of uint16 and we are intersted in unit8 for that a nurmalization is needed!"
   ]
  },
  {
   "cell_type": "code",
   "execution_count": null,
   "metadata": {},
   "outputs": [],
   "source": [
    "plt.imshow(impo_a-impo_b)"
   ]
  },
  {
   "cell_type": "code",
   "execution_count": null,
   "metadata": {},
   "outputs": [],
   "source": [
    "#nurmalize image\n",
    "\n",
    "impo_a=cv2.normalize(impo_a, None, alpha=0, beta=255, norm_type=cv2.NORM_MINMAX, dtype=cv2.CV_8U)\n",
    "image_a_mean=impo_a-mean(impo_a, axis=(0,1)) #equation 2\n",
    "\n",
    "#shift image vertically\n",
    "#image_shifted_vertically = shift(image,shift= (0, 1),mode='reflect')\n",
    "impo_b= cv2.normalize(impo_b, None, alpha=0, beta=255, norm_type=cv2.NORM_MINMAX, dtype=cv2.CV_8U)\n",
    "image_b_mean=impo_b-mean(impo_b, axis=(0,1)) #equation 2\n",
    "\n",
    "#image_shifted_both_directions = shift(image, (100, 4))#,mode='reflect')\n",
    "\n"
   ]
  },
  {
   "cell_type": "code",
   "execution_count": null,
   "metadata": {},
   "outputs": [],
   "source": [
    "plt.imshow(image_a_mean - image_b_mean)"
   ]
  },
  {
   "cell_type": "code",
   "execution_count": null,
   "metadata": {},
   "outputs": [],
   "source": [
    "#plot images\n",
    "# Set a larger figure size\n",
    "figure(figsize=(12, 3))\n",
    "\n",
    "plt.subplot(1, 2, 1)\n",
    "plt.imshow(image_a_mean, cmap='gray')\n",
    "plt.title('impo_a'), plt.xticks([]), plt.yticks([])\n",
    "colorbar()\n",
    "\n",
    "# Plotting phase spectrum\n",
    "plt.subplot(1, 2, 2)\n",
    "plt.imshow(impo_b, cmap='gray')  # 'hsv' colormap for phase\n",
    "plt.title('impo_b'), plt.xticks([]), plt.yticks([])\n",
    "#colorbar()\n",
    "\n",
    "\n",
    "colorbar()\n",
    "\n",
    "plt.show()"
   ]
  },
  {
   "cell_type": "code",
   "execution_count": null,
   "metadata": {},
   "outputs": [],
   "source": [
    "#correlate2d\n",
    "\n",
    "def correlate2d(image1, image2):\n",
    "\n",
    "    #Fourier \n",
    "    I_1 = np.fft.rfft2(image1)  #equation 3\n",
    "    I_2 = np.fft.rfft2(image2)  #equation 3\n",
    "\n",
    "    #cross power spectrum \n",
    "    CPS= I_1*I_2.conjugate() #equation 6\n",
    "    NCPS= CPS/ np.abs(CPS)\n",
    "\n",
    "    #cross-correlation\n",
    "    R_1= fftshift(np.fft.irfft2(NCPS)) #equation 10 #real(R_1)\n",
    "\n",
    "    return R_1\n"
   ]
  },
  {
   "cell_type": "code",
   "execution_count": null,
   "metadata": {},
   "outputs": [],
   "source": [
    "ia = image_a_mean[:32,:32]\n",
    "plt.imshow(ia)\n",
    "ib =image_b_mean[:32, :32]#shift(ia,shift= (-3, 4),mode='reflect') #(shift in x, shift in y)\n",
    "\n",
    "R = correlate2d(ib,ia)\n",
    "plt.imshow(real(R))\n",
    "i,j = unravel_index(R.argmax(),R.shape)\n",
    "print(i-16,j-16) #relative to the center of the image``"
   ]
  },
  {
   "cell_type": "code",
   "execution_count": null,
   "metadata": {},
   "outputs": [],
   "source": [
    "# Get the shape of the image array\n",
    "rows, cols = ia.shape\n",
    "\n",
    "# Create x and y coordinates using meshgrid\n",
    "x, y = np.meshgrid(np.arange(cols), np.arange(rows))\n",
    "u=i-16\n",
    "v=j-16\n",
    "M = sqrt(pow(array(u), 2) + pow(array(v), 2))\n",
    "\n",
    "quiver(x,y,u,v,M)\n",
    "colorbar()"
   ]
  },
  {
   "cell_type": "code",
   "execution_count": null,
   "metadata": {},
   "outputs": [],
   "source": [
    "#referance image\n",
    "\n",
    "a=image_a_mean[:, :]\n",
    "\n",
    "#shefted image\n",
    "b=image_b_mean[:, :]\n",
    "b.shape "
   ]
  },
  {
   "cell_type": "code",
   "execution_count": null,
   "metadata": {},
   "outputs": [],
   "source": [
    "\n",
    "iw = (64, 64)\n",
    "#a=image[:, :]\n",
    "#b=image_shifted_vertically[:, :]\n",
    "\n",
    "# Initialize lists for storing results\n",
    "x, y, u, v = [], [], [], []\n",
    "\n",
    "for k in range(0, a.shape[0],64):\n",
    "    for m in range(0, a.shape[1],64):\n",
    "        # Check if the current block is within the image boundaries\n",
    "        if k + iw[0] <= a.shape[0] and m + iw[1] <= a.shape[1]:\n",
    "\n",
    "          ia = a[k:k+iw[0], m:m+iw[1]]\n",
    "          ib = b[k:k+iw[0], m:m+iw[1]]\n",
    "        \n",
    "         # Cross-correlation\n",
    "          c = correlate2d(ib, ia)\n",
    "          i, j = (unravel_index(c.argmax(), c.shape))\n",
    "        \n",
    "          # Append values to respective lists\n",
    "          rows, cols=ia.shape\n",
    "          x.append(np.meshgrid(np.arange(cols)))\n",
    "          y.append(np.meshgrid(np.arange(rows)))\n",
    "          u.append((i - 32))\n",
    "          v.append((j - 32))\n",
    "\n",
    "          # Calculate magnitude for this particular patch\n",
    "          M = sqrt(((i - 16)*1)**2 + ((j - 16)*1)**2) # 0.2 is for scalling \n",
    "          \n",
    "\n",
    "            # Plotting vectors for this patch\n",
    "          plt.quiver(k , m , (i - 32), (j - 32), M) # 0.2 is for scalling \n",
    "\n",
    "# Display colorbar\n",
    "plt.colorbar()\n",
    "\n",
    "plt.show()\n"
   ]
  },
  {
   "cell_type": "code",
   "execution_count": null,
   "metadata": {},
   "outputs": [],
   "source": [
    "ia = a[500:532,500:532]\n",
    "plt.imshow(ia)\n",
    "ib = b[500:532,3000:3032]#image_shifted_vertically[:32, :32]#shift(ia,shift= (-3, 4),mode='reflect') #(shift in x, shift in y)\n",
    "\n",
    "R = correlate2d(ib,ia)\n",
    "plt.imshow(real(R))\n",
    "i,j = unravel_index(R.argmax(),R.shape)\n",
    "print(i-16,j-16) #relative to the center of the image"
   ]
  }
 ],
 "metadata": {
  "kernelspec": {
   "display_name": "Python 3.9.16 ('base')",
   "language": "python",
   "name": "python3"
  },
  "language_info": {
   "codemirror_mode": {
    "name": "ipython",
    "version": 3
   },
   "file_extension": ".py",
   "mimetype": "text/x-python",
   "name": "python",
   "nbconvert_exporter": "python",
   "pygments_lexer": "ipython3",
   "version": "3.12.2"
  },
  "orig_nbformat": 4,
  "vscode": {
   "interpreter": {
    "hash": "ad2bdc8ecc057115af97d19610ffacc2b4e99fae6737bb82f5d7fb13d2f2c186"
   }
  }
 },
 "nbformat": 4,
 "nbformat_minor": 2
}
