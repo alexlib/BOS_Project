{
 "cells": [
  {
   "cell_type": "markdown",
   "metadata": {
    "cell_id": "0125d1f6-10bf-4c0c-a6fc-0f53a9ad4523",
    "deepnote_cell_type": "markdown",
    "tags": []
   },
   "source": [
    "# BOS Velocimetry with OpenPIV and PIVPy\n",
    "\n",
    "\n",
    "PIV - particle image velocimetry \n",
    "BOS - background oriented schlieren\n",
    "\n",
    "Data credit: Gary Settles, PSU\n",
    "\n",
    "OpenPIV part credit: Alex Liberzon, TAU\n"
   ]
  },
  {
   "cell_type": "markdown",
   "metadata": {
    "cell_id": "8f4e4039-0c3d-4ed1-b877-6aa9c432989b",
    "deepnote_cell_type": "markdown",
    "id": "03_IqJ3DUcjA"
   },
   "source": [
    "\n",
    "# Steps\n",
    "\n",
    "There are several steps:\n",
    "\n",
    "1. multi-grid window deformation PIV run on the tare image and two jet images: 0, 1, the output is a TXT file in the form of x,y,u,v,...\n",
    "2. read the TXT file using PIVPy and create two images of scalar fields (alike images), using the streamwise displacement component, or displacement gradients, the output is two \"scalar\" images\n",
    "3. another, multi-grid window deformation PIV run on the two \"scalar\" images creates a velocity field, stored in TXT file that we can immediately append to the DataSet\n",
    "\n",
    "The run of steps 1-3 is rather long, but it saves a lot of data writing/reading. We could also save time by removing the need for TXT files, but it will require some tweaking with the windef function. "
   ]
  },
  {
   "cell_type": "code",
   "execution_count": null,
   "metadata": {
    "cell_id": "00006-40ab376e-d4c8-4d21-a6af-28c9deefb11e",
    "deepnote_cell_type": "code",
    "deepnote_to_be_reexecuted": false,
    "execution_millis": 43,
    "execution_start": 1645309781471,
    "id": "lnfQnjlJVldW",
    "source_hash": "50ceab25"
   },
   "outputs": [],
   "source": [
    "%reload_ext watermark\n",
    "%watermark -v -m -p numpy,openpiv,pivpy"
   ]
  },
  {
   "cell_type": "code",
   "execution_count": null,
   "metadata": {
    "cell_id": "00008-cd53f79c-008b-4e93-bee1-3d1f649a0add",
    "deepnote_cell_type": "code",
    "deepnote_to_be_reexecuted": false,
    "execution_millis": 1573,
    "execution_start": 1645309781513,
    "id": "Wi6KMG83VotS",
    "source_hash": "32bf16de"
   },
   "outputs": [],
   "source": [
    "from openpiv import windef\n",
    "from openpiv import tools, pyprocess, scaling, validation, filters, preprocess\n",
    "import numpy as np\n",
    "import os, glob\n",
    "from time import time\n",
    "import warnings\n",
    "\n",
    "\n",
    "from pivpy import io, pivpy, graphics\n",
    "import xarray as xr\n",
    "import pandas as pd\n",
    "\n",
    "\n",
    "import matplotlib.pyplot as plt\n",
    "%matplotlib inline\n",
    "\n",
    "import matplotlib\n",
    "matplotlib.rcParams['figure.figsize'] = (8.0, 6.0)"
   ]
  },
  {
   "cell_type": "markdown",
   "metadata": {
    "cell_id": "00009-3526bcab-f5a2-45da-857e-d48a107db381",
    "deepnote_cell_type": "markdown",
    "id": "rYjNjD_jWPk8"
   },
   "source": [
    "From tare image and two jet BOS images create two displacement fields"
   ]
  },
  {
   "cell_type": "code",
   "execution_count": null,
   "metadata": {
    "cell_id": "00010-020b102c-4694-437d-a841-f78b7aeeb9c8",
    "deepnote_cell_type": "code",
    "deepnote_to_be_reexecuted": false,
    "execution_millis": 2,
    "execution_start": 1645309783089,
    "source_hash": "932ae973"
   },
   "outputs": [],
   "source": [
    "# parameter settings - the location of the root folder\n",
    "root_folder = '../data'"
   ]
  },
  {
   "cell_type": "code",
   "execution_count": null,
   "metadata": {
    "cell_id": "00011-8ed39528-047e-4233-8890-442e8058b5e3",
    "deepnote_cell_type": "code",
    "deepnote_to_be_reexecuted": false,
    "execution_millis": 24,
    "execution_start": 1645309783093,
    "source_hash": "77bc09d9"
   },
   "outputs": [],
   "source": [
    "# base folder is the experimental name\n",
    "base_folder = '20210420-Run1'"
   ]
  },
  {
   "cell_type": "code",
   "execution_count": null,
   "metadata": {
    "cell_id": "00012-375056f5-874a-40f3-938d-bc16a63b4c7f",
    "deepnote_cell_type": "code",
    "deepnote_to_be_reexecuted": false,
    "execution_millis": 1,
    "execution_start": 1645309783117,
    "source_hash": "2aaca0be"
   },
   "outputs": [],
   "source": [
    "from openpiv.tools import imread, Multiprocesser, display_vector_field, \\\n",
    "    transform_coordinates\n",
    "from openpiv import validation, filters, tools, preprocess, scaling, tools\n",
    "from openpiv.pyprocess import extended_search_area_piv, get_coordinates, \\\n",
    "    get_field_shape\n",
    "from openpiv import smoothn\n",
    "from skimage.measure import points_in_poly\n",
    "from skimage.util import invert\n",
    "\n",
    "from openpiv.windef import first_pass, multipass_img_deform"
   ]
  },
  {
   "cell_type": "code",
   "execution_count": null,
   "metadata": {
    "cell_id": "00013-0a9d94c5-07b2-4bc7-8b05-ffe7a99b0d4f",
    "deepnote_cell_type": "code",
    "deepnote_to_be_reexecuted": false,
    "execution_millis": 8,
    "execution_start": 1645309783118,
    "source_hash": "46ee0282"
   },
   "outputs": [],
   "source": [
    "def piv_run(frame_a, frame_b, settings, counter=0):\n",
    "    # \"first pass\"\n",
    "    x, y, u, v, s2n = first_pass(\n",
    "        frame_a,\n",
    "        frame_b,\n",
    "        settings\n",
    "    )\n",
    "\n",
    "    if settings.show_all_plots:\n",
    "        plt.figure()\n",
    "        plt.quiver(x,y,u,-v,color='b')\n",
    "        # plt.gca().invert_yaxis()\n",
    "        # plt.gca().set_aspect(1.)\n",
    "        # plt.title('after first pass, invert')\n",
    "        # plt.show()\n",
    "\n",
    "    # \" Image masking \"\n",
    "    if settings.image_mask:\n",
    "        image_mask = np.logical_and(mask_a, mask_b)\n",
    "        mask_coords = preprocess.mask_coordinates(image_mask)\n",
    "        # mark those points on the grid of PIV inside the mask\n",
    "        grid_mask = preprocess.prepare_mask_on_grid(x,y,mask_coords)\n",
    "\n",
    "        # mask the velocity\n",
    "        u = np.ma.masked_array(u, mask=grid_mask)\n",
    "        v = np.ma.masked_array(v, mask=grid_mask)\n",
    "    else:\n",
    "        mask_coords = []\n",
    "        u = np.ma.masked_array(u, mask=np.ma.nomask)\n",
    "        v = np.ma.masked_array(v, mask=np.ma.nomask)\n",
    "\n",
    "    if settings.validation_first_pass:\n",
    "        u, v, mask = validation.typical_validation(u, v, s2n, settings)\n",
    "\n",
    "    if settings.show_all_plots:\n",
    "        plt.figure()\n",
    "        plt.quiver(x,y,u,-v,color='r')\n",
    "        plt.gca().invert_yaxis()\n",
    "        plt.gca().set_aspect(1.)\n",
    "        plt.title('after first pass validation new, inverted')\n",
    "        plt.show()\n",
    "\n",
    "\n",
    "    # \"filter to replace the values that where marked by the validation\"\n",
    "    if settings.num_iterations == 1 and settings.replace_vectors:\n",
    "        # for multi-pass we cannot have holes in the data\n",
    "        # after the first pass\n",
    "        u, v = filters.replace_outliers(\n",
    "            u,\n",
    "            v,\n",
    "            method=settings.filter_method,\n",
    "            max_iter=settings.max_filter_iteration,\n",
    "            kernel_size=settings.filter_kernel_size,\n",
    "        )\n",
    "    elif settings.num_iterations > 1: # don't even check if it's true or false\n",
    "        u, v = filters.replace_outliers(\n",
    "            u,\n",
    "            v,\n",
    "            method=settings.filter_method,\n",
    "            max_iter=settings.max_filter_iteration,\n",
    "            kernel_size=settings.filter_kernel_size,\n",
    "        )\n",
    "\n",
    "        # \"adding masks to add the effect of all the validations\"\n",
    "    if settings.smoothn:\n",
    "        u, dummy_u1, dummy_u2, dummy_u3 = smoothn.smoothn(\n",
    "            u, s=settings.smoothn_p\n",
    "        )\n",
    "        v, dummy_v1, dummy_v2, dummy_v3 = smoothn.smoothn(\n",
    "            v, s=settings.smoothn_p\n",
    "        )\n",
    "\n",
    "    if settings.image_mask:\n",
    "        grid_mask = preprocess.prepare_mask_on_grid(x, y, mask_coords)\n",
    "        u = np.ma.masked_array(u, mask=grid_mask)\n",
    "        v = np.ma.masked_array(v, mask=grid_mask)\n",
    "    else:\n",
    "        u = np.ma.masked_array(u, np.ma.nomask)\n",
    "        v = np.ma.masked_array(v, np.ma.nomask)\n",
    "\n",
    "\n",
    "    if settings.show_all_plots:\n",
    "        plt.figure()\n",
    "        plt.quiver(x,y,u,-v)\n",
    "        plt.gca().invert_yaxis()\n",
    "        plt.gca().set_aspect(1.)\n",
    "        plt.title('before multi pass, inverted')\n",
    "        plt.show()\n",
    "\n",
    "    if not isinstance(u, np.ma.MaskedArray):\n",
    "        raise ValueError(\"Expected masked array\")\n",
    "\n",
    "    \"\"\" Multi pass \"\"\"\n",
    "\n",
    "    for i in range(1, settings.num_iterations):\n",
    "\n",
    "        if not isinstance(u, np.ma.MaskedArray):\n",
    "            raise ValueError(\"Expected masked array\")\n",
    "\n",
    "        x, y, u, v, s2n, mask = multipass_img_deform(\n",
    "            frame_a,\n",
    "            frame_b,\n",
    "            i,\n",
    "            x,\n",
    "            y,\n",
    "            u,\n",
    "            v,\n",
    "            settings,\n",
    "            mask_coords=mask_coords\n",
    "        )        \n",
    "\n",
    "        # If the smoothing is active, we do it at each pass\n",
    "        # but not the last one\n",
    "        if settings.smoothn is True and i < settings.num_iterations-1: \n",
    "            u, dummy_u1, dummy_u2, dummy_u3 = smoothn.smoothn(\n",
    "                u, s=settings.smoothn_p\n",
    "            )\n",
    "            v, dummy_v1, dummy_v2, dummy_v3 = smoothn.smoothn(\n",
    "                v, s=settings.smoothn_p\n",
    "            )\n",
    "        if not isinstance(u, np.ma.MaskedArray):\n",
    "            raise ValueError ('not a masked array anymore')\n",
    "\n",
    "        if hasattr(settings, 'image_mask') and settings.image_mask:\n",
    "            grid_mask = preprocess.prepare_mask_on_grid(x, y, mask_coords)\n",
    "            u = np.ma.masked_array(u, mask=grid_mask)\n",
    "            v = np.ma.masked_array(v, mask=grid_mask)\n",
    "        else:\n",
    "            u = np.ma.masked_array(u, np.ma.nomask)\n",
    "            v = np.ma.masked_array(v, np.ma.nomask)\n",
    "\n",
    "        if settings.show_all_plots:\n",
    "            plt.figure()\n",
    "            plt.quiver(x, y, u, -v, color='r')\n",
    "            plt.gca().set_aspect(1.)\n",
    "            plt.gca().invert_yaxis()\n",
    "            plt.title('end of the multipass, invert')\n",
    "            plt.show()\n",
    "\n",
    "    if settings.show_all_plots and settings.num_iterations > 1:\n",
    "        plt.figure()\n",
    "        plt.quiver(x,y,u,-v)\n",
    "        plt.gca().invert_yaxis()\n",
    "        plt.gca().set_aspect(1.)\n",
    "        plt.title('after multi pass, before saving, inverted')\n",
    "        plt.show()\n",
    "\n",
    "    # we now use only 0s instead of the image\n",
    "    # masked regions. \n",
    "    # we could do Nan, not sure what is best\n",
    "    u = u.filled(0.)\n",
    "    v = v.filled(0.)\n",
    "\n",
    "    # \"scales the results pixel-> meter\"\n",
    "    x, y, u, v = scaling.uniform(x, y, u, v,\n",
    "                                 scaling_factor=settings.scaling_factor)\n",
    "\n",
    "    if settings.image_mask:\n",
    "        grid_mask = preprocess.prepare_mask_on_grid(x, y, mask_coords)\n",
    "        u = np.ma.masked_array(u, mask=grid_mask)\n",
    "        v = np.ma.masked_array(v, mask=grid_mask)\n",
    "    else:\n",
    "        u = np.ma.masked_array(u, np.ma.nomask)\n",
    "        v = np.ma.masked_array(v, np.ma.nomask)\n",
    "\n",
    "    # before saving we conver to the \"physically relevant\"\n",
    "    # right-hand coordinate system with 0,0 at the bottom left\n",
    "    # x to the right, y upwards\n",
    "    # and so u,v\n",
    "\n",
    "    x, y, u, v = transform_coordinates(x, y, u, v)\n",
    "    # import pdb; pdb.set_trace()\n",
    "    # \"save to a file\"\n",
    "    tools.save(x, y, u, v, mask,\n",
    "        os.path.join(settings.save_path, \"field_A%03d.txt\" % counter),\n",
    "        delimiter=\"\\t\",\n",
    "    )\n",
    "    \n",
    "        # \"some other stuff that one might want to use\"\n",
    "    if settings.show_plot or settings.save_plot:\n",
    "        Name = os.path.join(settings.save_path, \"Image_A%03d.png\" % counter)\n",
    "        fig, _ = display_vector_field(\n",
    "            os.path.join(settings.save_path, \"field_A%03d.txt\" % counter),\n",
    "            scale=settings.scale_plot,\n",
    "        )\n",
    "        if settings.save_plot is True:\n",
    "            fig.savefig(Name)\n",
    "        if settings.show_plot is True:\n",
    "            plt.show()\n",
    "\n"
   ]
  },
  {
   "cell_type": "code",
   "execution_count": null,
   "metadata": {
    "cell_id": "00014-c499571e-5239-46c6-b21b-76e20537144e",
    "deepnote_cell_type": "code",
    "deepnote_to_be_reexecuted": false,
    "execution_millis": 1,
    "execution_start": 1645309783143,
    "source_hash": "d36ee69a"
   },
   "outputs": [],
   "source": [
    "# def func(args):\n",
    "def piv(settings, counter=0):\n",
    "    \"\"\"A function to process each image pair.\"\"\"\n",
    "\n",
    "    # this line is REQUIRED for multiprocessing to work\n",
    "    # always use it in your custom function\n",
    "    \n",
    "    # file_a, file_b, counter = args\n",
    "\n",
    "    \n",
    "    \n",
    "    file_a = os.path.join(settings.filepath_images, settings.frame_pattern_a)\n",
    "    file_b = os.path.join(settings.filepath_images, settings.frame_pattern_b)\n",
    "    print(file_a)\n",
    "\n",
    "    # read images into numpy arrays\n",
    "    frame_a = imread(file_a)\n",
    "    frame_b = imread(file_b)\n",
    "\n",
    "    \" crop to ROI\"\n",
    "    if settings.ROI == \"full\":\n",
    "        frame_a = frame_a\n",
    "        frame_b = frame_b\n",
    "    else:\n",
    "        frame_a = frame_a[\n",
    "            settings.ROI[0]:settings.ROI[1],\n",
    "            settings.ROI[2]:settings.ROI[3]\n",
    "        ]\n",
    "        frame_b = frame_b[\n",
    "            settings.ROI[0]:settings.ROI[1],\n",
    "            settings.ROI[2]:settings.ROI[3]\n",
    "        ]\n",
    "\n",
    "    if settings.invert is True:\n",
    "        frame_a = invert(frame_a)\n",
    "        frame_b = invert(frame_b)\n",
    "\n",
    "    if settings.show_all_plots:\n",
    "        fig, ax = plt.subplots(1,1)\n",
    "        ax.imshow(frame_a, cmap=plt.get_cmap('Reds'))\n",
    "        ax.imshow(frame_b, cmap=plt.get_cmap('Blues'),alpha=.5)\n",
    "        plt.show()\n",
    "\n",
    "    if settings.dynamic_masking_method in (\"edge\", \"intensity\"):\n",
    "        frame_a, mask_a = preprocess.dynamic_masking(\n",
    "            frame_a,\n",
    "            method=settings.dynamic_masking_method,\n",
    "            filter_size=settings.dynamic_masking_filter_size,\n",
    "            threshold=settings.dynamic_masking_threshold,\n",
    "        )\n",
    "        frame_b, mask_b = preprocess.dynamic_masking(\n",
    "            frame_b,\n",
    "            method=settings.dynamic_masking_method,\n",
    "            filter_size=settings.dynamic_masking_filter_size,\n",
    "            threshold=settings.dynamic_masking_threshold,\n",
    "        )\n",
    "\n",
    "    piv_run(frame_a, frame_b, settings)\n",
    "    \n",
    "    print(f\"Image Pair {counter + 1}\")\n",
    "    print(file_a.rsplit('/')[-1],file_b.rsplit('/')[-1])\n",
    "\n",
    "\n",
    "\n",
    "\n",
    "# def piv(settings):\n",
    "#     \"\"\" the func fuction is the \"frame\" in which the PIV evaluation is done \"\"\"\n",
    "\n",
    "#     # \"Below is code to read files and create a folder to store the results\"\n",
    "#     save_path = os.path.join(\n",
    "#         settings.save_path,\n",
    "#         \"Open_PIV_results_\"\n",
    "#         + str(settings.windowsizes[settings.num_iterations-1])\n",
    "#         + \"_\"\n",
    "#         + settings.save_folder_suffix,\n",
    "#     )\n",
    "#     if not os.path.exists(save_path):\n",
    "#         os.makedirs(save_path)\n",
    "#     task = Multiprocesser(\n",
    "#         data_dir=settings.filepath_images,\n",
    "#         pattern_a=settings.frame_pattern_a,\n",
    "#         pattern_b=settings.frame_pattern_b,\n",
    "#     )\n",
    "#     task.run(func=func, n_cpus=1)"
   ]
  },
  {
   "cell_type": "code",
   "execution_count": null,
   "metadata": {
    "cell_id": "00015-d7a8bea9-2ba9-4006-8037-d8c54e7051c7",
    "deepnote_cell_type": "code",
    "deepnote_to_be_reexecuted": false,
    "execution_millis": 2,
    "execution_start": 1645309783144,
    "id": "47gv8DTPEdOb",
    "source_hash": "c4a6f5c1"
   },
   "outputs": [],
   "source": [
    "settings = windef.Settings()\n",
    "\n",
    "\n",
    "'Data related settings'\n",
    "# Folder with the images to process\n",
    "settings.filepath_images = f'{root_folder}/{base_folder}'\n",
    "settings.save_path = f'{root_folder}/results_{base_folder}'\n",
    "# Root name of the output Folder for Result Files\n",
    "settings.save_folder_suffix = 'Run1'\n",
    "# Format and Image Sequence\n",
    "settings.frame_pattern_b = '20210420-tare1000001.tif'\n",
    "# settings.frame_pattern_a = '20210420-Run1000023.tif'\n",
    "\n",
    "\n",
    "'Region of interest'\n",
    "# (50,300,50,300) #Region of interest: (xmin,xmax,ymin,ymax) or 'full' for full image\n",
    "# settings.ROI = (100,400,600,1024)\n",
    "# settings.ROI = [0,980,320,700]\n",
    "settings.ROI = 'full'\n",
    "\n",
    "settings.deformation_method = 'symmetric' \n",
    "# settings.deformation_method = 'second image'\n",
    "\n",
    "\n",
    "settings.num_iterations = 4  # select the number of PIV passes\n",
    "\n",
    "# add the interrogation window size for each pass. \n",
    "# For the moment, it should be a power of 2 \n",
    "settings.windowsizes=(64, 32, 16, 8)\n",
    "settings.overlap=(32, 16, 8, 4)\n",
    "\n",
    "# settings.windowsizes = (128, 64, 32, 16, 8) # if longer than n iteration the rest is ignored\n",
    "# The overlap of the interroagtion window for each pass.\n",
    "# settings.overlap = (64, 32, 16, 8, 4) # This is 50% overlap\n",
    "\n",
    "\n",
    "# Has to be a value with base two. In general window size/2 is a good choice.\n",
    "# methode used for subpixel interpolation: 'gaussian','centroid','parabolic'\n",
    "settings.subpixel_method = 'gaussian'\n",
    "\n",
    "# order of the image interpolation for the window deformation\n",
    "settings.interpolation_order = 3\n",
    "settings.scaling_factor = 1  # scaling factor pixel/meter\n",
    "settings.dt = 1  # time between to frames (in seconds)\n",
    "\n",
    "# 'Signal to noise ratio options (only for the last pass)'\n",
    "# It is possible to decide if the S/N should be computed (for the last pass) or not\n",
    "# settings.extract_sig2noise = True  # 'True' or 'False' (only for the last pass)\n",
    "settings.sig2noise_threshold = 1.0\n",
    "# method used to calculate the signal to noise ratio 'peak2peak' or 'peak2mean'\n",
    "settings.sig2noise_method = 'peak2peak'\n",
    "# select the width of the masked to masked out pixels next to the main peak\n",
    "settings.sig2noise_mask = 2\n",
    "settings.sig2noise_validate = False\n",
    "\n",
    "# If extract_sig2noise==False the values in the signal to noise ratio\n",
    "# output column are set to NaN\n",
    "\n",
    "# only effecting the first pass of the interrogation the following passes\n",
    "# in the multipass will be validated\n",
    "\n",
    "'Output options'\n",
    "# Select if you want to save the plotted vectorfield: True or False\n",
    "settings.save_plot = False\n",
    "# Choose wether you want to see the vectorfield or not :True or False\n",
    "settings.show_plot = False\n",
    "settings.scale_plot = 20  # select a value to scale the quiver plot of the vectorfield\n",
    "# run the script with the given settings\n",
    "\n",
    "\n",
    "\n",
    "# 'Processing Parameters'\n",
    "settings.correlation_method='circular'  # 'circular' or 'linear'\n",
    "# settings.normalized_correlation = True\n",
    "\n",
    "# 'vector validation options'\n",
    "# choose if you want to do validation of the first pass: True or False\n",
    "settings.validation_first_pass = True\n",
    "\n",
    "settings.replace_vectors = True\n",
    "\n",
    "settings.filter_method = 'localmean'\n",
    "# maximum iterations performed to replace the outliers\n",
    "settings.max_filter_iteration = 2\n",
    "settings.filter_kernel_size = 1  # kernel size for the localmean method\n",
    "\n",
    "\n",
    "\n",
    "settings.MinMax_U_disp = (-10, 10)\n",
    "settings.MinMax_V_disp = (-10, 10)\n",
    "\n",
    "# The second filter is based on the global STD threshold\n",
    "settings.std_threshold = 5  # threshold of the std validation\n",
    "\n",
    "# The third filter is the median test (not normalized at the moment)\n",
    "settings.median_threshold = 5  # threshold of the median validation\n",
    "# On the last iteration, an additional validation can be done based on the S/N.\n",
    "settings.median_size = 2 # defines the size of the local median, it'll be 3 x 3\n",
    "\n",
    "# New settings for version 0.23.2c\n",
    "settings.image_mask = False\n",
    "\n",
    "# Image mask properties\n",
    "settings.dynamic_masking_method = None\n",
    "# settings.dynamic_masking_method = 'intensity'\n",
    "settings.dynamic_masking_threshold = 0.1\n",
    "settings.dynamic_masking_filter_size = 21\n",
    "\n",
    "\n",
    "\n",
    "# Smoothing after the first pass\n",
    "settings.smoothn = True #Enables smoothing of the displacemenet field\n",
    "settings.smoothn_p = 0.05 # This is a smoothing parameter\n",
    "\n",
    "\n",
    "settings.show_all_plots = False\n",
    "\n",
    "settings.invert = False\n",
    "\n",
    "#settings.remove_mean_shift = False\n",
    "\n",
    "\n",
    "# \"Below is code to read files and create a folder to store the results\"\n",
    "settings.save_path = os.path.join(\n",
    "    settings.save_path,\n",
    "    \"Open_PIV_results_\"\n",
    "    + str(settings.windowsizes[settings.num_iterations-1])\n",
    "    + \"_\"\n",
    "    + settings.save_folder_suffix,\n",
    ")\n",
    "if not os.path.exists(settings.save_path):\n",
    "    os.makedirs(settings.save_path)"
   ]
  },
  {
   "cell_type": "code",
   "execution_count": null,
   "metadata": {
    "cell_id": "00016-7361b284-84e3-482f-8594-aabb26c13ac2",
    "deepnote_cell_type": "code",
    "deepnote_to_be_reexecuted": false,
    "execution_millis": 7877,
    "execution_start": 1645309783152,
    "id": "UAl3AVwhXJiT",
    "source_hash": "2d02ea15"
   },
   "outputs": [],
   "source": [
    "# pair 1\n",
    "settings.frame_pattern_a = '20210420-Run1000023.tif'\n",
    "piv(settings)"
   ]
  },
  {
   "cell_type": "code",
   "execution_count": null,
   "metadata": {
    "cell_id": "00017-d4f2db57-03e3-4f1e-b185-9fd3bcf8c385",
    "deepnote_cell_type": "code",
    "deepnote_to_be_reexecuted": false,
    "execution_millis": 123,
    "execution_start": 1645309791072,
    "source_hash": "8c6b4dff"
   },
   "outputs": [],
   "source": [
    "res_file = os.path.join(settings.save_path,'field_A000.txt')\n",
    "# os.path.exists(res_file)\n",
    "d0 = io.load_txt(res_file)"
   ]
  },
  {
   "cell_type": "code",
   "execution_count": null,
   "metadata": {
    "cell_id": "00018-4bd9e8e6-bc94-449d-a164-e4fee190fa60",
    "deepnote_cell_type": "code",
    "deepnote_to_be_reexecuted": false,
    "execution_millis": 7710,
    "execution_start": 1645309791236,
    "source_hash": "e8a00a9b"
   },
   "outputs": [],
   "source": [
    "settings.frame_pattern_a = '20210420-Run1000024.tif'\n",
    "piv(settings)"
   ]
  },
  {
   "cell_type": "code",
   "execution_count": null,
   "metadata": {
    "cell_id": "00019-589ac0fc-e58d-4848-aff7-2ea7363d4fe8",
    "deepnote_cell_type": "code",
    "deepnote_to_be_reexecuted": false,
    "execution_millis": 159,
    "execution_start": 1645309798947,
    "source_hash": "c3fd0a2f"
   },
   "outputs": [],
   "source": [
    "d1 = io.load_txt(res_file)"
   ]
  },
  {
   "cell_type": "markdown",
   "metadata": {
    "cell_id": "00020-000f2cd6-a420-4140-a47a-5646ec28eecf",
    "deepnote_cell_type": "markdown",
    "id": "Cm-mMOdEWlqI"
   },
   "source": [
    "From TXT file to the streamwise component of displacement image"
   ]
  },
  {
   "cell_type": "code",
   "execution_count": null,
   "metadata": {
    "cell_id": "00021-f7d86c4d-8ce4-4f97-a4d9-95aa01c60889",
    "deepnote_cell_type": "code",
    "deepnote_to_be_reexecuted": false,
    "execution_millis": 2,
    "execution_start": 1645309799108,
    "source_hash": "6ebf2c23"
   },
   "outputs": [],
   "source": [
    "def save_figure_to_numpy(fig):\n",
    "    # save it to a numpy array.\n",
    "    fig.canvas.draw()\n",
    "    data = np.fromstring(fig.canvas.tostring_rgb(), dtype=np.uint8, sep='')\n",
    "    data = data.reshape(fig.canvas.get_width_height()[::-1] + (3,))\n",
    "    return data #.transpose(2, 0, 1)"
   ]
  },
  {
   "cell_type": "code",
   "execution_count": null,
   "metadata": {
    "cell_id": "00022-342e0190-1f93-43d2-a8d5-59a83d36b528",
    "deepnote_cell_type": "code",
    "deepnote_to_be_reexecuted": false,
    "execution_millis": 41,
    "execution_start": 1645309799112,
    "source_hash": "fdc60fc6"
   },
   "outputs": [],
   "source": [
    "# prepare strain-like scalar field\n",
    "d0.piv.strain()\n",
    "d1.piv.strain()"
   ]
  },
  {
   "cell_type": "code",
   "execution_count": null,
   "metadata": {
    "cell_id": "00023-362777e2-bd8c-4eb6-9c92-9efd06ce5ddc",
    "deepnote_cell_type": "code",
    "deepnote_to_be_reexecuted": false,
    "execution_millis": 280,
    "execution_start": 1645309799196,
    "source_hash": "c3341778"
   },
   "outputs": [],
   "source": [
    "fig, ax = plt.subplots()\n",
    "# ax.imshow(d0.isel(t=0)['u'].T,cmap=plt.cm.gray) \n",
    "ax.imshow(d0.isel(t=0)['w'].T,cmap=plt.cm.gray) \n",
    "fig.tight_layout()\n",
    "ax.axis('off')\n",
    "fig.canvas.draw()\n",
    "frame_a = save_figure_to_numpy(fig)"
   ]
  },
  {
   "cell_type": "code",
   "execution_count": null,
   "metadata": {
    "cell_id": "00025-89ee0e82-e2a6-41b8-afcd-109562dc3c9e",
    "deepnote_cell_type": "code",
    "deepnote_to_be_reexecuted": false,
    "execution_millis": 247,
    "execution_start": 1645309799524,
    "source_hash": "e91b97a2"
   },
   "outputs": [],
   "source": [
    "# from matplotlib.backends.backend_agg import FigureCanvasAgg\n",
    "\n",
    "fig, ax = plt.subplots()\n",
    "# ax.imshow(d1.isel(t=0)['u'].T,cmap=plt.cm.gray)\n",
    "ax.imshow(d1.isel(t=0)['w'].T,cmap=plt.cm.gray)\n",
    "fig.tight_layout()\n",
    "ax.axis('off')\n",
    "fig.canvas.draw()\n",
    "frame_b = save_figure_to_numpy(fig)\n",
    "\n",
    "# plt.figure()\n",
    "# plt.imshow(img)\n"
   ]
  },
  {
   "cell_type": "code",
   "execution_count": null,
   "metadata": {
    "cell_id": "00024-d09744a8-a241-4011-b5b7-ecb175244930",
    "deepnote_cell_type": "code",
    "deepnote_to_be_reexecuted": false,
    "execution_millis": 2,
    "execution_start": 1645309799770,
    "source_hash": "d4cab3f0"
   },
   "outputs": [],
   "source": [
    "# let's try to avoid imshow\n",
    "# d0.piv.strain()\n",
    "# tmp = d0.fillna(0)\n",
    "# tmp = tmp.isel(t=0)['w'].T.values\n",
    "# tmp = tmp.squeeze()\n",
    "# tmp = (tmp - tmp.min())/(tmp.max() - tmp.min())\n",
    "# frame_a = (tmp*255).astype(np.int32)\n",
    "\n",
    "# tmp = d1.fillna(0)\n",
    "# tmp = tmp.isel(t=0)['w'].T.values\n",
    "# tmp = tmp.squeeze()\n",
    "# tmp = (tmp - tmp.min())/(tmp.max() - tmp.min())\n",
    "# frame_b = (tmp*255).astype(np.int32)"
   ]
  },
  {
   "cell_type": "code",
   "execution_count": null,
   "metadata": {
    "cell_id": "00026-2a787233-1d3a-44f4-b221-74a2beccf9ef",
    "deepnote_cell_type": "code",
    "deepnote_to_be_reexecuted": false,
    "execution_millis": 322,
    "execution_start": 1645309799800,
    "source_hash": "313fa75d"
   },
   "outputs": [],
   "source": [
    "fig, ax = plt.subplots(1,2)\n",
    "\n",
    "# crop images\n",
    "frame_a = np.mean(frame_a[90:340,50:550],axis=2)\n",
    "frame_b = np.mean(frame_b[90:340,50:550],axis=2)\n",
    "\n",
    "ax[0].imshow(frame_a, cmap='gray')\n",
    "ax[1].imshow(frame_b, cmap='gray')"
   ]
  },
  {
   "cell_type": "code",
   "execution_count": null,
   "metadata": {
    "cell_id": "4a5c7a59-2062-45da-bff1-c102544c37ec",
    "deepnote_cell_type": "code",
    "deepnote_to_be_reexecuted": false,
    "execution_millis": 661,
    "execution_start": 1645309800123,
    "source_hash": "d07e19bd",
    "tags": []
   },
   "outputs": [],
   "source": [
    "plt.imshow(np.abs(frame_a - frame_b))"
   ]
  },
  {
   "cell_type": "code",
   "execution_count": null,
   "metadata": {
    "cell_id": "00028-51210274-dd06-430f-bd1e-f4f28426218e",
    "deepnote_cell_type": "code",
    "deepnote_to_be_reexecuted": false,
    "execution_millis": 3524,
    "execution_start": 1645309800404,
    "source_hash": "23d3ff1"
   },
   "outputs": [],
   "source": [
    "settings.show_all_plots = False\n",
    "settings.invert = True\n",
    "# settings.ROI = [100,350,50,550]\n",
    "settings.ROI = 'full'\n",
    "\n",
    "piv_run(frame_a, frame_b, settings)"
   ]
  },
  {
   "cell_type": "markdown",
   "metadata": {
    "cell_id": "00029-e5ff7323-9dfb-4db1-98a7-1ddbd7af9f36",
    "deepnote_cell_type": "markdown",
    "id": "KIF5K5-mYR2U"
   },
   "source": [
    "TXT to DataSet"
   ]
  },
  {
   "cell_type": "code",
   "execution_count": null,
   "metadata": {
    "cell_id": "00030-bee39d51-f768-4d71-b88d-6f101818438c",
    "deepnote_cell_type": "code",
    "deepnote_to_be_reexecuted": false,
    "execution_millis": 4,
    "execution_start": 1645309803930,
    "source_hash": "25050a75"
   },
   "outputs": [],
   "source": [
    "res_file = os.path.join(settings.save_path,'field_A000.txt')\n",
    "os.path.exists(res_file)"
   ]
  },
  {
   "cell_type": "code",
   "execution_count": null,
   "metadata": {
    "cell_id": "00031-9e715e22-83f5-4dbe-90b7-5c2f41232722",
    "deepnote_cell_type": "code",
    "deepnote_to_be_reexecuted": false,
    "execution_millis": 40,
    "execution_start": 1645309803937,
    "source_hash": "6c0c5eca"
   },
   "outputs": [],
   "source": [
    "d2 = io.load_txt(res_file)"
   ]
  },
  {
   "cell_type": "code",
   "execution_count": null,
   "metadata": {
    "cell_id": "00032-370534c6-8717-406c-bb18-00ee015c0179",
    "deepnote_cell_type": "code",
    "deepnote_to_be_reexecuted": false,
    "execution_millis": 372,
    "execution_start": 1645309803986,
    "source_hash": "2e464b8b"
   },
   "outputs": [],
   "source": [
    "fig, ax = plt.subplots()\n",
    "im = ax.imshow(d2.isel(t=0)['u'].T)\n",
    "plt.colorbar(im)\n",
    "\n",
    "# fig.tight_layout()\n",
    "# ax.axis('off')\n",
    "# fig.canvas.draw()\n",
    "# frame_a = save_figure_to_numpy(fig)"
   ]
  },
  {
   "cell_type": "code",
   "execution_count": null,
   "metadata": {
    "cell_id": "00033-1d0586bc-2bf5-4bfa-aba1-cc9088c1d07a",
    "deepnote_cell_type": "code",
    "deepnote_to_be_reexecuted": false,
    "execution_millis": 218,
    "execution_start": 1645309804359,
    "source_hash": "60e1f762"
   },
   "outputs": [],
   "source": [
    "plt.plot(d2.x,np.mean(d2['u'][:,20:40,0],axis=1));\n",
    "plt.xlabel('Streamwise coordinate, (pix)')\n",
    "plt.ylabel('Centerline velocity distribution (pix/dt)')"
   ]
  },
  {
   "cell_type": "code",
   "execution_count": null,
   "metadata": {
    "cell_id": "1872c3f4-ed76-4b61-9e79-8a8d761e8ceb",
    "deepnote_cell_type": "code",
    "deepnote_to_be_reexecuted": false,
    "execution_millis": 382,
    "execution_start": 1645309804586,
    "source_hash": "31615af1",
    "tags": []
   },
   "outputs": [],
   "source": [
    "plt.plot(np.mean(d2['u'][60:100,:,0],axis=0),d2.y);\n",
    "plt.ylabel('$y$ (pix)')\n",
    "plt.xlabel('Spatially Averaged Velocity profile (pix/dt)');"
   ]
  },
  {
   "cell_type": "code",
   "execution_count": null,
   "metadata": {
    "cell_id": "ddfb3d04-6b55-4a92-89e0-7c884cf58cfa",
    "deepnote_cell_type": "code",
    "deepnote_to_be_reexecuted": false,
    "execution_millis": 1,
    "execution_start": 1645309804969,
    "source_hash": "b623e53d",
    "tags": []
   },
   "outputs": [],
   "source": []
  },
  {
   "cell_type": "markdown",
   "metadata": {
    "created_in_deepnote_cell": true,
    "deepnote_cell_type": "markdown",
    "tags": []
   },
   "source": [
    "<a style='text-decoration:none;line-height:16px;display:flex;color:#5B5B62;padding:10px;justify-content:end;' href='https://deepnote.com?utm_source=created-in-deepnote-cell&projectId=5a409ffc-4365-43ea-9d49-425c249ee983' target=\"_blank\">\n",
    "<img alt='Created in deepnote.com' style='display:inline;max-height:16px;margin:0px;margin-right:7.5px;' src='data:image/svg+xml;base64,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' > </img>\n",
    "Created in <span style='font-weight:600;margin-left:4px;'>Deepnote</span></a>"
   ]
  }
 ],
 "metadata": {
  "colab": {
   "authorship_tag": "ABX9TyMuFgOUi/m/PrhSm9NAlE10",
   "collapsed_sections": [],
   "name": "colab_one_shot_bos_velocimetry.ipynb",
   "provenance": []
  },
  "deepnote": {},
  "deepnote_execution_queue": [],
  "deepnote_notebook_id": "7c52636f-57d1-4cdc-8dc3-9f741ae2e585",
  "kernelspec": {
   "display_name": "Python ('dpivsoft')",
   "language": "python",
   "name": "python3"
  },
  "language_info": {
   "codemirror_mode": {
    "name": "ipython",
    "version": 3
   },
   "file_extension": ".py",
   "mimetype": "text/x-python",
   "name": "python",
   "nbconvert_exporter": "python",
   "pygments_lexer": "ipython3",
   "version": "3.12.2"
  },
  "vscode": {
   "interpreter": {
    "hash": "25a19fbe0a9132dfb9279d48d161753c6352f8f9478c2e74383d340069b907c3"
   }
  }
 },
 "nbformat": 4,
 "nbformat_minor": 4
}
